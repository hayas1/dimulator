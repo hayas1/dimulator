{
 "nbformat": 4,
 "nbformat_minor": 2,
 "metadata": {
  "language_info": {
   "name": "python",
   "codemirror_mode": {
    "name": "ipython",
    "version": 3
   },
   "version": "3.7.3"
  },
  "orig_nbformat": 2,
  "file_extension": ".py",
  "mimetype": "text/x-python",
  "name": "python",
  "npconvert_exporter": "python",
  "pygments_lexer": "ipython3",
  "version": 3
 },
 "cells": [
  {
   "cell_type": "code",
   "execution_count": 1,
   "metadata": {},
   "outputs": [],
   "source": [
    "from dimulator.node import UndirectedNode\n",
    "from dimulator.edge import UndirectedEdge"
   ]
  },
  {
   "cell_type": "code",
   "execution_count": 3,
   "metadata": {},
   "outputs": [
    {
     "name": "stdout",
     "output_type": "stream",
     "text": "0 []\n0 []\n0 []\n1 []\n1 []\n1 []\n2 []\n2 []\n2 []\n3 []\n3 []\n3 []\n4 []\n4 ['hello']\n4 []\n5 []\n5 ['hello']\n5 []\n6 []\n6 ['hello']\n6 []\n7 []\n7 ['hello']\n7 []\n8 []\n8 ['hello']\n8 []\n9 []\n9 ['hello']\n9 []\n"
    }
   ],
   "source": [
    "a, b, c = [UndirectedNode(id=i) for i in range(3)]\n",
    "\n",
    "\n",
    "eab = UndirectedEdge(a, b, weight=2)\n",
    "a.send_message(b, 'hello')\n",
    "\n",
    "for i in range(10):\n",
    "    a.frame_update(i)\n",
    "    b.frame_update(i)\n",
    "    c.frame_update(i)\n",
    "    eab.frame_update(i)"
   ]
  },
  {
   "cell_type": "code",
   "execution_count": 4,
   "metadata": {},
   "outputs": [
    {
     "name": "stdout",
     "output_type": "stream",
     "text": "('a', 2)\n('b', 3)\n"
    }
   ],
   "source": [
    "def a(a, *args):\n",
    "    print(a, b)\n",
    "\n",
    "d = {'a': 2, 'b': 3}\n",
    "for i in d.items():\n",
    "    print(i)"
   ]
  },
  {
   "cell_type": "code",
   "execution_count": null,
   "metadata": {},
   "outputs": [],
   "source": []
  }
 ]
}