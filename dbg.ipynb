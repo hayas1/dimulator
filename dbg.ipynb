{
 "nbformat": 4,
 "nbformat_minor": 2,
 "metadata": {
  "language_info": {
   "name": "python",
   "codemirror_mode": {
    "name": "ipython",
    "version": 3
   },
   "version": "3.7.4"
  },
  "orig_nbformat": 2,
  "file_extension": ".py",
  "mimetype": "text/x-python",
  "name": "python",
  "npconvert_exporter": "python",
  "pygments_lexer": "ipython3",
  "version": 3
 },
 "cells": [
  {
   "cell_type": "code",
   "execution_count": 1,
   "metadata": {},
   "outputs": [],
   "source": [
    "from dimulator.daemon import FairDaemon\n",
    "from dimulator.graph import UndirectedGraph\n",
    "from dimulator.node import UndirectedNode\n",
    "from dimulator.edge import UndirectedEdge"
   ]
  },
  {
   "cell_type": "code",
   "execution_count": 2,
   "metadata": {},
   "outputs": [
    {
     "name": "stdout",
     "output_type": "stream",
     "text": "e?\n"
    }
   ],
   "source": [
    "a, b, c = [UndirectedNode(id=i) for i in range(3)]\n",
    "\n",
    "g = UndirectedGraph()\n",
    "g.extend_nodes(a, b, c)\n",
    "\n",
    "g.connect_undirected_edge(a, b, weight=1)\n",
    "g.connect_undirected_edge(b, c, weight=3)\n",
    "\n",
    "daemon = FairDaemon(g)\n",
    "a.send_message(b, 'hello')\n",
    "\n",
    "daemon.main_loop(timeout=10)\n",
    "# for i in range(10):\n",
    "#     a.frame_update(i)\n",
    "#     b.frame_update(i)\n",
    "#     c.frame_update(i)\n",
    "#     eab.frame_update(i)"
   ]
  },
  {
   "cell_type": "code",
   "execution_count": 4,
   "metadata": {},
   "outputs": [
    {
     "name": "stdout",
     "output_type": "stream",
     "text": "('a', 2)\n('b', 3)\n"
    }
   ],
   "source": [
    "def a(a, *args):\n",
    "    print(a, b)\n",
    "\n",
    "d = {'a': 2, 'b': 3}\n",
    "for i in d.items():\n",
    "    print(i)"
   ]
  },
  {
   "cell_type": "code",
   "execution_count": 3,
   "metadata": {},
   "outputs": [
    {
     "name": "stdout",
     "output_type": "stream",
     "text": "[3, 2, 1]\n[]\n"
    }
   ],
   "source": [
    "a = [1, 2, 3]\n",
    "print([a.pop() for _ in range(len(a))])\n",
    "print(a)"
   ]
  },
  {
   "cell_type": "code",
   "execution_count": null,
   "metadata": {},
   "outputs": [],
   "source": []
  }
 ]
}